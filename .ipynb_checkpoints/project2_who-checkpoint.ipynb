{
 "cells": [
  {
   "cell_type": "markdown",
   "metadata": {},
   "source": [
    "# Import Dependencies"
   ]
  },
  {
   "cell_type": "code",
   "execution_count": null,
   "metadata": {},
   "outputs": [],
   "source": [
    "import requests\n",
    "import json\n",
    "from pprint import pprint\n",
    "import pandas as pd\n",
    "import numpy as np\n",
    "import matplotlib.pyplot as plt\n",
    "import csv\n",
    "from bs4 import BeautifulSoup\n",
    "from splinter import Browser\n",
    "from splinter.exceptions import ElementDoesNotExist\n",
    "import time"
   ]
  },
  {
   "cell_type": "markdown",
   "metadata": {},
   "source": [
    "# Scrape Headline of CDC "
   ]
  },
  {
   "cell_type": "code",
   "execution_count": null,
   "metadata": {},
   "outputs": [],
   "source": [
    "executable_path = {\"executable_path\": \"./chromedriver.exe\"}"
   ]
  },
  {
   "cell_type": "code",
   "execution_count": null,
   "metadata": {},
   "outputs": [],
   "source": [
    "browser = Browser(\"chrome\", **executable_path)"
   ]
  },
  {
   "cell_type": "code",
   "execution_count": null,
   "metadata": {},
   "outputs": [],
   "source": [
    "url = 'https://www.cdc.gov/ncbddd/sicklecell/data.html'\n",
    "browser.visit(url)"
   ]
  },
  {
   "cell_type": "code",
   "execution_count": null,
   "metadata": {},
   "outputs": [],
   "source": [
    "browser.visit(url)\n",
    "time.sleep(1)\n",
    "cdc_html = browser.html\n",
    "cdc_soup = BeautifulSoup(cdc_html, 'html.parser')"
   ]
  },
  {
   "cell_type": "code",
   "execution_count": null,
   "metadata": {},
   "outputs": [],
   "source": [
    "news_list = cdc_soup.find('head')\n",
    "first_item = news_list.find('title')\n",
    "cdc_headline = first_item\n",
    "cdc_teaser = first_item\n",
    "print(cdc_headline)\n",
    "print(cdc_teaser)"
   ]
  },
  {
   "cell_type": "code",
   "execution_count": null,
   "metadata": {},
   "outputs": [],
   "source": [
    "url2 = 'https://www.cdc.gov/ncbddd/sicklecell/data.html'\n",
    "browser.visit(url2)"
   ]
  },
  {
   "cell_type": "code",
   "execution_count": null,
   "metadata": {},
   "outputs": [],
   "source": [
    "browser.visit(url2)\n",
    "time.sleep(1)\n",
    "sct_html = browser.html\n",
    "sct_soup = BeautifulSoup(cst_html, 'html.parser')"
   ]
  },
  {
   "cell_type": "code",
   "execution_count": null,
   "metadata": {},
   "outputs": [],
   "source": [
    "news_list = cdc_soup.find('head')\n",
    "first_item = news_list.find('title')\n",
    "cdc_headline = first_item\n",
    "cdc_teaser = first_item\n",
    "print(cdc_headline)\n",
    "print(cdc_teaser)"
   ]
  },
  {
   "cell_type": "markdown",
   "metadata": {},
   "source": [
    "# Scrape Headline of WHO "
   ]
  },
  {
   "cell_type": "markdown",
   "metadata": {},
   "source": [
    "# Pull Data from the WHO API for top Disease Causes in USA in 2018"
   ]
  },
  {
   "cell_type": "code",
   "execution_count": null,
   "metadata": {},
   "outputs": [],
   "source": [
    "# Something like this but it's NOT working\n",
    "url1 = \"http://apps.who.int/gho/athena/api/GHO/WHOSIS_000001?filter=COUNTRY:MNG;YEAR:2011;format=csv\"\n",
    "response1 = requests.get(url1).json()\n",
    "pprint(response1)"
   ]
  },
  {
   "cell_type": "code",
   "execution_count": null,
   "metadata": {},
   "outputs": [],
   "source": [
    "# Something like this but it's NOT working\n",
    "url1a = 'http://apps.who.int/gho/athena/api/GHO/WHOSIS_000001.csv?filter=COUNTRY:BWA&profile=text'\n",
    "response1 = requests.get(url1a)\n",
    "pprint(response1)"
   ]
  },
  {
   "cell_type": "code",
   "execution_count": null,
   "metadata": {},
   "outputs": [],
   "source": [
    "# Something like this2 but it's NOT working\n",
    "# example 10 on website https://apps.who.int/gho/athena/public_docs/examples.html#ex2\n",
    "# disease cause in url4 below\n",
    "#\n",
    "url2 = \"http://apps.who.int/gho/athena/api/DISEASECAUSE/Malaria?filter=COUNTRY:AFR;YEAR:2008;format=json\"\n",
    "response2 = requests.get(url2)\n",
    "pprint(response2)"
   ]
  },
  {
   "cell_type": "markdown",
   "metadata": {},
   "source": [
    "## Exploring with WHO api examples"
   ]
  },
  {
   "cell_type": "code",
   "execution_count": null,
   "metadata": {},
   "outputs": [],
   "source": [
    "#Example 1 - Retrieving the list of available dimensions\n",
    "url3 = \"http://apps.who.int/gho/athena/api/.json\"\n",
    "response3 = requests.get(url3).json()\n",
    "pprint(response3)"
   ]
  },
  {
   "cell_type": "code",
   "execution_count": null,
   "metadata": {},
   "outputs": [],
   "source": [
    "#Example 1 - Retrieving the list of available dimensions\n",
    "for i in range(10):\n",
    "    pprint(response3['dimension'][0]['code'][i]['display'])  "
   ]
  },
  {
   "cell_type": "code",
   "execution_count": null,
   "metadata": {},
   "outputs": [],
   "source": [
    "#Example 2 - Retrieving a list of available codes for a specific dimension - DISEASECAUSE\n",
    "url4 = \"http://apps.who.int/gho/athena/api/DISEASECAUSE&profile=text\"\n",
    "response4 = requests.get(url4)\n",
    "pprint(response4)"
   ]
  },
  {
   "cell_type": "code",
   "execution_count": null,
   "metadata": {},
   "outputs": [],
   "source": [
    "#Example 2 - Retrieving a list of available codes for a specific dimension\n",
    "for i in range(10):\n",
    "    pprint(response4['dimension'][0]['code'][i]['display'])  "
   ]
  },
  {
   "cell_type": "code",
   "execution_count": null,
   "metadata": {},
   "outputs": [],
   "source": [
    "#Example 2a - Retrieving a list of available codes for a specific dimension - DISEASECAUSE\n",
    "url5 = \"http://apps.who.int/gho/athena/api/DISEASECAUSE.json\"\n",
    "response5 = requests.get(url5).json()\n",
    "pprint(response5['dimension'][0]['code'][0]['display'])"
   ]
  },
  {
   "cell_type": "code",
   "execution_count": null,
   "metadata": {},
   "outputs": [],
   "source": [
    "#Example 2b - Retrieving a list of available codes for a specific dimension - DATASOURCE\n",
    "url6 = \"http://apps.who.int/gho/athena/api/DATASOURCE.json\"\n",
    "response6 = requests.get(url6).json()\n",
    "pprint(response6['dimension'][0]['code'][0]['display'])"
   ]
  },
  {
   "cell_type": "code",
   "execution_count": null,
   "metadata": {},
   "outputs": [],
   "source": [
    "# Example 3 - base\n",
    "url7 = \"http://apps.who.int/gho/athena/api/GHO.json\"\n",
    "response7 = requests.get(url7).json()\n",
    "pprint(response7)"
   ]
  },
  {
   "cell_type": "code",
   "execution_count": null,
   "metadata": {},
   "outputs": [],
   "source": [
    "# Example 3 - base\n",
    "for i in range(20):\n",
    "    pprint(response7['dimension'][0]['code'][i]['display'])"
   ]
  },
  {
   "cell_type": "code",
   "execution_count": null,
   "metadata": {},
   "outputs": [],
   "source": [
    "# Example 3 - Retrieving data / Specify a target to download by specifying both a dimension and a code within that dimension.\n",
    "url8 = \"http://apps.who.int/gho/athena/api/GHO/MDG_0000000017.json\"\n",
    "response8 = requests.get(url8).json()\n",
    "pprint(response8)"
   ]
  },
  {
   "cell_type": "code",
   "execution_count": null,
   "metadata": {},
   "outputs": [],
   "source": [
    "# Example 3 - Retrieving data / Specify a target to download by specifying both a dimension and a code within that dimension.\n",
    "for i in range(10):\n",
    "    pprint(response8['dimension'][0]['code'][i]['display'])  "
   ]
  },
  {
   "cell_type": "code",
   "execution_count": null,
   "metadata": {},
   "outputs": [],
   "source": [
    "# index with single quote\n",
    "url9 = \"http://apps.who.int/gho/athena/api/GHO/WHOSIS_000001.json?profile=simple\"\n",
    "response9 = requests.get(url9).json()\n",
    "pprint(response9)"
   ]
  },
  {
   "cell_type": "code",
   "execution_count": null,
   "metadata": {},
   "outputs": [],
   "source": [
    "# index with single quote\n",
    "pprint(response9['fact'])"
   ]
  },
  {
   "cell_type": "code",
   "execution_count": null,
   "metadata": {},
   "outputs": [],
   "source": [
    "# index with double quote\n",
    "url10 = \"http://apps.who.int/gho/athena/api/REGION.json\"\n",
    "response10 = requests.get(url10).json()\n",
    "pprint(response10)"
   ]
  },
  {
   "cell_type": "code",
   "execution_count": null,
   "metadata": {},
   "outputs": [],
   "source": [
    "# index with double quote\n",
    "pprint(response10[\"dimension\"])"
   ]
  },
  {
   "cell_type": "code",
   "execution_count": null,
   "metadata": {},
   "outputs": [],
   "source": [
    "# index into list\n",
    "for i in range(10):\n",
    "    pprint(response10['dimension'][0]['code'][i]['display'])"
   ]
  },
  {
   "cell_type": "markdown",
   "metadata": {},
   "source": [
    "# Show in DataFrame"
   ]
  },
  {
   "cell_type": "code",
   "execution_count": null,
   "metadata": {},
   "outputs": [],
   "source": [
    "fact_df = pd.DataFrame.from_dict(response, orient='index')\n",
    "fact_df"
   ]
  },
  {
   "cell_type": "markdown",
   "metadata": {},
   "source": [
    "# Store in Mongo"
   ]
  },
  {
   "cell_type": "markdown",
   "metadata": {},
   "source": [
    "# Filter Data"
   ]
  },
  {
   "cell_type": "code",
   "execution_count": null,
   "metadata": {},
   "outputs": [],
   "source": [
    "url11 = \"http://apps.who.int/gho/athena/api/REGION?filter=COUNTRY:AFR.json\"\n",
    "response11 = requests.get(url11).json()\n",
    "pprint(response11)"
   ]
  },
  {
   "cell_type": "markdown",
   "metadata": {},
   "source": []
  }
 ],
 "metadata": {
  "kernelspec": {
   "display_name": "Python [conda env:.conda-PythonData] *",
   "language": "python",
   "name": "conda-env-.conda-PythonData-py"
  },
  "language_info": {
   "codemirror_mode": {
    "name": "ipython",
    "version": 3
   },
   "file_extension": ".py",
   "mimetype": "text/x-python",
   "name": "python",
   "nbconvert_exporter": "python",
   "pygments_lexer": "ipython3",
   "version": "3.7.5"
  }
 },
 "nbformat": 4,
 "nbformat_minor": 2
}
